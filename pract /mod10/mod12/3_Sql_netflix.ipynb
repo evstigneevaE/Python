{
  "cells": [
    {
      "cell_type": "markdown",
      "metadata": {
        "id": "5PCKYT3D4iks"
      },
      "source": [
        "Соединяемся с базой, если указать имя файла как `:memory:`, база будет создана в оперативной памяти.\n",
        "\n",
        "    You can also supply the special name :memory: to create a database in RAM."
      ]
    },
    {
      "cell_type": "code",
      "execution_count": 1,
      "metadata": {
        "id": "RhEmuVuM4ikx"
      },
      "outputs": [],
      "source": [
        "import sqlite3\n",
        "conn = sqlite3.connect('netflix.sqlite')"
      ]
    },
    {
      "cell_type": "markdown",
      "metadata": {
        "id": "F79vUfox4ikz"
      },
      "source": [
        "<a href=\"https://docs.python.org/3/library/sqlite3.html\">Документация</a>"
      ]
    },
    {
      "cell_type": "code",
      "execution_count": 2,
      "metadata": {
        "id": "ZVqgNXE84ik1"
      },
      "outputs": [],
      "source": [
        "c = conn.cursor() # Стандартный курсор = итератор по результатам запросов."
      ]
    },
    {
      "cell_type": "markdown",
      "metadata": {},
      "source": []
    },
    {
      "cell_type": "code",
      "execution_count": 3,
      "metadata": {
        "colab": {
          "base_uri": "https://localhost:8080/"
        },
        "id": "n6E0yQEc4ik2",
        "outputId": "83c49815-902b-40c6-a234-190a37971afa"
      },
      "outputs": [
        {
          "name": "stdout",
          "output_type": "stream",
          "text": [
            "(81145628, 'Movie', 'Norm of the North: King Sized Adventure', 'Richard Finn, Tim Maltby', 'Alan Marriott, Andrew Toth, Brian Dobson, Cole Howard, Jennifer Cameron, Jonathan Holmes, Lee Tockar, Lisa Durupt, Maya Kay, Michael Dobson', 'United States, India, South Korea, China', 'September 9, 2019', 2019, 'TV-PG', '90 min', 'Children & Family Movies, Comedies', 'Before planning an awesome wedding for his grandfather, a polar bear king must take back a stolen artifact from an evil archaeologist first.')\n",
            "(80117401, 'Movie', 'Jandino: Whatever it Takes', '', 'Jandino Asporaat', 'United Kingdom', 'September 9, 2016', 2016, 'TV-MA', '94 min', 'Stand-Up Comedy', 'Jandino Asporaat riffs on the challenges of raising kids and serenades the audience with a rousing rendition of \"Sex on Fire\" in his comedy show.')\n",
            "(70234439, 'TV Show', 'Transformers Prime', '', 'Peter Cullen, Sumalee Montano, Frank Welker, Jeffrey Combs, Kevin Michael Richardson, Tania Gunadi, Josh Keaton, Steve Blum, Andy Pessoa, Ernie Hudson, Daran Norris, Will Friedle', 'United States', 'September 8, 2018', 2013, 'TV-Y7-FV', '1 Season', \"Kids' TV\", 'With the help of three human allies, the Autobots once again protect Earth from the onslaught of the Decepticons and their leader, Megatron.')\n"
          ]
        }
      ],
      "source": [
        "for row in c.execute(\"SELECT * FROM netflix_titles limit 3\"):\n",
        "    print(row)"
      ]
    },
    {
      "cell_type": "markdown",
      "metadata": {
        "id": "iuDIhYMe4ik6"
      },
      "source": [
        "Можно еще получать по одному:"
      ]
    },
    {
      "cell_type": "code",
      "execution_count": 4,
      "metadata": {
        "colab": {
          "base_uri": "https://localhost:8080/"
        },
        "id": "31fX2RYq4ik6",
        "outputId": "fc66a259-9717-44de-ee78-5384d2ffa6d5"
      },
      "outputs": [
        {
          "data": {
            "text/plain": [
              "<sqlite3.Cursor at 0x7f73e1b84e30>"
            ]
          },
          "execution_count": 4,
          "metadata": {},
          "output_type": "execute_result"
        }
      ],
      "source": [
        "c.execute(\"SELECT * FROM netflix_titles limit 3\")"
      ]
    },
    {
      "cell_type": "code",
      "execution_count": 5,
      "metadata": {
        "colab": {
          "base_uri": "https://localhost:8080/"
        },
        "id": "ULklo2tZ4ik7",
        "outputId": "60caf693-dbd4-4553-8e8f-af9824d3814f"
      },
      "outputs": [
        {
          "data": {
            "text/plain": [
              "(81145628,\n",
              " 'Movie',\n",
              " 'Norm of the North: King Sized Adventure',\n",
              " 'Richard Finn, Tim Maltby',\n",
              " 'Alan Marriott, Andrew Toth, Brian Dobson, Cole Howard, Jennifer Cameron, Jonathan Holmes, Lee Tockar, Lisa Durupt, Maya Kay, Michael Dobson',\n",
              " 'United States, India, South Korea, China',\n",
              " 'September 9, 2019',\n",
              " 2019,\n",
              " 'TV-PG',\n",
              " '90 min',\n",
              " 'Children & Family Movies, Comedies',\n",
              " 'Before planning an awesome wedding for his grandfather, a polar bear king must take back a stolen artifact from an evil archaeologist first.')"
            ]
          },
          "execution_count": 5,
          "metadata": {},
          "output_type": "execute_result"
        }
      ],
      "source": [
        "c.fetchone()"
      ]
    },
    {
      "cell_type": "code",
      "execution_count": null,
      "metadata": {
        "id": "_9adz7qr4ik7",
        "outputId": "2b45435d-bd32-4f68-a3d0-b0ca8e4e1b11"
      },
      "outputs": [
        {
          "data": {
            "text/plain": [
              "(80117401,\n",
              " 'Movie',\n",
              " 'Jandino: Whatever it Takes',\n",
              " '',\n",
              " 'Jandino Asporaat',\n",
              " 'United Kingdom',\n",
              " 'September 9, 2016',\n",
              " 2016,\n",
              " 'TV-MA',\n",
              " '94 min',\n",
              " 'Stand-Up Comedy',\n",
              " 'Jandino Asporaat riffs on the challenges of raising kids and serenades the audience with a rousing rendition of \"Sex on Fire\" in his comedy show.')"
            ]
          },
          "execution_count": 19,
          "metadata": {},
          "output_type": "execute_result"
        }
      ],
      "source": [
        "c.fetchone()"
      ]
    },
    {
      "cell_type": "code",
      "execution_count": null,
      "metadata": {
        "id": "OxvwQ4iv4ik8",
        "outputId": "9ce31ff8-d6a2-4458-e375-32cbdc5df40e"
      },
      "outputs": [
        {
          "data": {
            "text/plain": [
              "(70234439,\n",
              " 'TV Show',\n",
              " 'Transformers Prime',\n",
              " '',\n",
              " 'Peter Cullen, Sumalee Montano, Frank Welker, Jeffrey Combs, Kevin Michael Richardson, Tania Gunadi, Josh Keaton, Steve Blum, Andy Pessoa, Ernie Hudson, Daran Norris, Will Friedle',\n",
              " 'United States',\n",
              " 'September 8, 2018',\n",
              " 2013,\n",
              " 'TV-Y7-FV',\n",
              " '1 Season',\n",
              " \"Kids' TV\",\n",
              " 'With the help of three human allies, the Autobots once again protect Earth from the onslaught of the Decepticons and their leader, Megatron.')"
            ]
          },
          "execution_count": 20,
          "metadata": {},
          "output_type": "execute_result"
        }
      ],
      "source": [
        "c.fetchone()"
      ]
    },
    {
      "cell_type": "code",
      "execution_count": null,
      "metadata": {
        "id": "sI_nJtyC4ik9"
      },
      "outputs": [],
      "source": [
        "c.fetchone() # Все, курсор закончился."
      ]
    },
    {
      "cell_type": "code",
      "execution_count": null,
      "metadata": {
        "id": "0FEvNqaN4ik9",
        "outputId": "d1fe01bf-d26f-45ae-9f9f-6e0da1bfdb8a"
      },
      "outputs": [
        {
          "data": {
            "text/plain": [
              "[(81145628,\n",
              "  'Movie',\n",
              "  'Norm of the North: King Sized Adventure',\n",
              "  'Richard Finn, Tim Maltby',\n",
              "  'Alan Marriott, Andrew Toth, Brian Dobson, Cole Howard, Jennifer Cameron, Jonathan Holmes, Lee Tockar, Lisa Durupt, Maya Kay, Michael Dobson',\n",
              "  'United States, India, South Korea, China',\n",
              "  'September 9, 2019',\n",
              "  2019,\n",
              "  'TV-PG',\n",
              "  '90 min',\n",
              "  'Children & Family Movies, Comedies',\n",
              "  'Before planning an awesome wedding for his grandfather, a polar bear king must take back a stolen artifact from an evil archaeologist first.'),\n",
              " (80117401,\n",
              "  'Movie',\n",
              "  'Jandino: Whatever it Takes',\n",
              "  '',\n",
              "  'Jandino Asporaat',\n",
              "  'United Kingdom',\n",
              "  'September 9, 2016',\n",
              "  2016,\n",
              "  'TV-MA',\n",
              "  '94 min',\n",
              "  'Stand-Up Comedy',\n",
              "  'Jandino Asporaat riffs on the challenges of raising kids and serenades the audience with a rousing rendition of \"Sex on Fire\" in his comedy show.'),\n",
              " (70234439,\n",
              "  'TV Show',\n",
              "  'Transformers Prime',\n",
              "  '',\n",
              "  'Peter Cullen, Sumalee Montano, Frank Welker, Jeffrey Combs, Kevin Michael Richardson, Tania Gunadi, Josh Keaton, Steve Blum, Andy Pessoa, Ernie Hudson, Daran Norris, Will Friedle',\n",
              "  'United States',\n",
              "  'September 8, 2018',\n",
              "  2013,\n",
              "  'TV-Y7-FV',\n",
              "  '1 Season',\n",
              "  \"Kids' TV\",\n",
              "  'With the help of three human allies, the Autobots once again protect Earth from the onslaught of the Decepticons and their leader, Megatron.')]"
            ]
          },
          "execution_count": 22,
          "metadata": {},
          "output_type": "execute_result"
        }
      ],
      "source": [
        "c.execute(\"SELECT * FROM netflix_titles limit 3\")\n",
        "c.fetchall() # Как видим, у нас не итератор, а полноценный список."
      ]
    },
    {
      "cell_type": "markdown",
      "metadata": {
        "id": "Ez40pU8G4ik-"
      },
      "source": [
        "Как видим, не очень удобно, что возвращаются кортежи. Удобней было бы, чтобы словари."
      ]
    },
    {
      "cell_type": "code",
      "execution_count": null,
      "metadata": {
        "id": "0806SW0_4ik-",
        "outputId": "b33528b2-ec93-45d0-b41c-6395ccf06e32"
      },
      "outputs": [
        {
          "data": {
            "text/plain": [
              "(('show_id', None, None, None, None, None, None),\n",
              " ('type', None, None, None, None, None, None),\n",
              " ('title', None, None, None, None, None, None),\n",
              " ('director', None, None, None, None, None, None),\n",
              " ('cast', None, None, None, None, None, None),\n",
              " ('country', None, None, None, None, None, None),\n",
              " ('date_added', None, None, None, None, None, None),\n",
              " ('release_year', None, None, None, None, None, None),\n",
              " ('rating', None, None, None, None, None, None),\n",
              " ('duration', None, None, None, None, None, None),\n",
              " ('listed_in', None, None, None, None, None, None),\n",
              " ('description', None, None, None, None, None, None))"
            ]
          },
          "execution_count": 29,
          "metadata": {},
          "output_type": "execute_result"
        }
      ],
      "source": [
        "c.description # вот тут есть описания полей."
      ]
    },
    {
      "cell_type": "code",
      "execution_count": null,
      "metadata": {
        "id": "rbTkkLEf4ik_"
      },
      "outputs": [],
      "source": [
        "def dict_factory(cursor, row): \n",
        "    # обертка для преобразования \n",
        "    # полученной строки. (взята из документации)\n",
        "    d = {}\n",
        "    for idx, col in enumerate(cursor.description):\n",
        "        d[col[0]] = row[idx]\n",
        "    return d"
      ]
    },
    {
      "cell_type": "code",
      "execution_count": null,
      "metadata": {
        "id": "yV_hMNIm4ilA"
      },
      "outputs": [],
      "source": [
        "conn.row_factory = dict_factory"
      ]
    },
    {
      "cell_type": "code",
      "execution_count": null,
      "metadata": {
        "id": "AGpyaQ_x4ilA",
        "outputId": "1d730b5b-25b2-438c-b5e3-da95d664c7c0"
      },
      "outputs": [
        {
          "data": {
            "text/plain": [
              "[{'show_id': 81145628,\n",
              "  'type': 'Movie',\n",
              "  'title': 'Norm of the North: King Sized Adventure',\n",
              "  'director': 'Richard Finn, Tim Maltby',\n",
              "  'cast': 'Alan Marriott, Andrew Toth, Brian Dobson, Cole Howard, Jennifer Cameron, Jonathan Holmes, Lee Tockar, Lisa Durupt, Maya Kay, Michael Dobson',\n",
              "  'country': 'United States, India, South Korea, China',\n",
              "  'date_added': 'September 9, 2019',\n",
              "  'release_year': 2019,\n",
              "  'rating': 'TV-PG',\n",
              "  'duration': '90 min',\n",
              "  'listed_in': 'Children & Family Movies, Comedies',\n",
              "  'description': 'Before planning an awesome wedding for his grandfather, a polar bear king must take back a stolen artifact from an evil archaeologist first.'},\n",
              " {'show_id': 80117401,\n",
              "  'type': 'Movie',\n",
              "  'title': 'Jandino: Whatever it Takes',\n",
              "  'director': '',\n",
              "  'cast': 'Jandino Asporaat',\n",
              "  'country': 'United Kingdom',\n",
              "  'date_added': 'September 9, 2016',\n",
              "  'release_year': 2016,\n",
              "  'rating': 'TV-MA',\n",
              "  'duration': '94 min',\n",
              "  'listed_in': 'Stand-Up Comedy',\n",
              "  'description': 'Jandino Asporaat riffs on the challenges of raising kids and serenades the audience with a rousing rendition of \"Sex on Fire\" in his comedy show.'},\n",
              " {'show_id': 70234439,\n",
              "  'type': 'TV Show',\n",
              "  'title': 'Transformers Prime',\n",
              "  'director': '',\n",
              "  'cast': 'Peter Cullen, Sumalee Montano, Frank Welker, Jeffrey Combs, Kevin Michael Richardson, Tania Gunadi, Josh Keaton, Steve Blum, Andy Pessoa, Ernie Hudson, Daran Norris, Will Friedle',\n",
              "  'country': 'United States',\n",
              "  'date_added': 'September 8, 2018',\n",
              "  'release_year': 2013,\n",
              "  'rating': 'TV-Y7-FV',\n",
              "  'duration': '1 Season',\n",
              "  'listed_in': \"Kids' TV\",\n",
              "  'description': 'With the help of three human allies, the Autobots once again protect Earth from the onslaught of the Decepticons and their leader, Megatron.'}]"
            ]
          },
          "execution_count": 36,
          "metadata": {},
          "output_type": "execute_result"
        }
      ],
      "source": [
        "с = conn.cursor()\n",
        "c.execute(\"SELECT * FROM netflix_titles limit 3\")\n",
        "c.fetchall() # Теперь буду словари"
      ]
    },
    {
      "cell_type": "code",
      "execution_count": null,
      "metadata": {
        "id": "jzyeg3GL4ilB",
        "outputId": "ee574a14-44cc-4ec0-899e-bf3cd20b50fd"
      },
      "outputs": [
        {
          "data": {
            "text/plain": [
              "[{'cnt': 273}]"
            ]
          },
          "execution_count": 39,
          "metadata": {},
          "output_type": "execute_result"
        }
      ],
      "source": [
        "c.execute(\"SELECT count(*) as cnt FROM netflix_titles where listed_in='Stand-Up Comedy'\")\n",
        "c.fetchall() # Сколько вообще стендап комедий"
      ]
    },
    {
      "cell_type": "code",
      "execution_count": null,
      "metadata": {
        "id": "8plaGnkr4ilC",
        "outputId": "f58a5b95-a09d-4d92-fde4-df9bba77ed98"
      },
      "outputs": [
        {
          "data": {
            "text/plain": [
              "[{'rating': '', 'cnt': 10},\n",
              " {'rating': 'G', 'cnt': 37},\n",
              " {'rating': 'NC-17', 'cnt': 2},\n",
              " {'rating': 'NR', 'cnt': 218},\n",
              " {'rating': 'PG', 'cnt': 184},\n",
              " {'rating': 'PG-13', 'cnt': 286},\n",
              " {'rating': 'R', 'cnt': 508},\n",
              " {'rating': 'TV-14', 'cnt': 1698},\n",
              " {'rating': 'TV-G', 'cnt': 149},\n",
              " {'rating': 'TV-MA', 'cnt': 2027},\n",
              " {'rating': 'TV-PG', 'cnt': 701},\n",
              " {'rating': 'TV-Y', 'cnt': 143},\n",
              " {'rating': 'TV-Y7', 'cnt': 169},\n",
              " {'rating': 'TV-Y7-FV', 'cnt': 95},\n",
              " {'rating': 'UR', 'cnt': 7}]"
            ]
          },
          "execution_count": 41,
          "metadata": {},
          "output_type": "execute_result"
        }
      ],
      "source": [
        "c.execute(\"SELECT rating, count(*) as cnt FROM netflix_titles group by rating\")\n",
        "c.fetchall() # Группируем по рейтингу\n",
        "# Важно тут сказать, что SQL -- замена pandas полноценная, \n",
        "# и всю обработку данных можно делать прямо внутри него"
      ]
    },
    {
      "cell_type": "markdown",
      "metadata": {
        "id": "FYdOCH1G4ilD"
      },
      "source": [
        "# Задания"
      ]
    },
    {
      "cell_type": "markdown",
      "metadata": {
        "id": "RA1vh63z4ilD"
      },
      "source": [
        "1. Нормализовать базу данных относительно актеров. Выделить таблицу с актерами, а также таблицу многие-ко-многим `актер-фильм`\n"
      ]
    },
    {
      "cell_type": "markdown",
      "metadata": {
        "id": "hiLGYBfB4ilE"
      },
      "source": [
        "2. Исходя из этой таблицы, средствами SQL, вычислить наболее часто работающую друг с другом пару актеров."
      ]
    },
    {
      "cell_type": "markdown",
      "metadata": {
        "id": "jHNyHAZs4ilF"
      },
      "source": []
    }
  ],
  "metadata": {
    "colab": {
      "collapsed_sections": [],
      "name": "3_Sql_netflix.ipynb",
      "provenance": []
    },
    "kernelspec": {
      "display_name": "Python 3",
      "language": "python",
      "name": "python3"
    },
    "language_info": {
      "codemirror_mode": {
        "name": "ipython",
        "version": 3
      },
      "file_extension": ".py",
      "mimetype": "text/x-python",
      "name": "python",
      "nbconvert_exporter": "python",
      "pygments_lexer": "ipython3",
      "version": "3.6.9"
    }
  },
  "nbformat": 4,
  "nbformat_minor": 0
}
